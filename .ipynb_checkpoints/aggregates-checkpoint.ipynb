{
 "cells": [
  {
   "cell_type": "code",
   "execution_count": 22,
   "metadata": {},
   "outputs": [],
   "source": [
    "import pandas as pd\n",
    "from sqlalchemy import create_engine\n",
    "import matplotlib.pyplot as plt\n",
    "\n",
    "# Reusing from main Jupyter notebook\n",
    "house_csv = \"resources/melb_data.csv\"\n",
    "house_df = pd.read_csv(house_csv)\n",
    "venus_csv = \"resources/Melbourne_venues.csv\"\n",
    "venus_df = pd.read_csv(venus_csv)"
   ]
  },
  {
   "cell_type": "code",
   "execution_count": 23,
   "metadata": {},
   "outputs": [
    {
     "data": {
      "text/html": [
       "<div>\n",
       "<style scoped>\n",
       "    .dataframe tbody tr th:only-of-type {\n",
       "        vertical-align: middle;\n",
       "    }\n",
       "\n",
       "    .dataframe tbody tr th {\n",
       "        vertical-align: top;\n",
       "    }\n",
       "\n",
       "    .dataframe thead th {\n",
       "        text-align: right;\n",
       "    }\n",
       "</style>\n",
       "<table border=\"1\" class=\"dataframe\">\n",
       "  <thead>\n",
       "    <tr style=\"text-align: right;\">\n",
       "      <th></th>\n",
       "      <th>Rooms</th>\n",
       "      <th>Price</th>\n",
       "      <th>Distance</th>\n",
       "      <th>Postcode</th>\n",
       "      <th>Bedroom2</th>\n",
       "      <th>Bathroom</th>\n",
       "      <th>Car</th>\n",
       "      <th>Landsize</th>\n",
       "      <th>BuildingArea</th>\n",
       "      <th>YearBuilt</th>\n",
       "      <th>Lattitude</th>\n",
       "      <th>Longtitude</th>\n",
       "      <th>Propertycount</th>\n",
       "    </tr>\n",
       "    <tr>\n",
       "      <th>Suburb</th>\n",
       "      <th></th>\n",
       "      <th></th>\n",
       "      <th></th>\n",
       "      <th></th>\n",
       "      <th></th>\n",
       "      <th></th>\n",
       "      <th></th>\n",
       "      <th></th>\n",
       "      <th></th>\n",
       "      <th></th>\n",
       "      <th></th>\n",
       "      <th></th>\n",
       "      <th></th>\n",
       "    </tr>\n",
       "  </thead>\n",
       "  <tbody>\n",
       "    <tr>\n",
       "      <th>Abbotsford</th>\n",
       "      <td>2.410714</td>\n",
       "      <td>1.060366e+06</td>\n",
       "      <td>2.616071</td>\n",
       "      <td>3067.0</td>\n",
       "      <td>2.410714</td>\n",
       "      <td>1.410714</td>\n",
       "      <td>0.946429</td>\n",
       "      <td>292.446429</td>\n",
       "      <td>103.000000</td>\n",
       "      <td>1945.184211</td>\n",
       "      <td>-37.804339</td>\n",
       "      <td>144.997176</td>\n",
       "      <td>4019.0</td>\n",
       "    </tr>\n",
       "    <tr>\n",
       "      <th>Aberfeldie</th>\n",
       "      <td>3.090909</td>\n",
       "      <td>1.277455e+06</td>\n",
       "      <td>8.627273</td>\n",
       "      <td>3040.0</td>\n",
       "      <td>3.000000</td>\n",
       "      <td>1.863636</td>\n",
       "      <td>1.977273</td>\n",
       "      <td>514.772727</td>\n",
       "      <td>163.692000</td>\n",
       "      <td>1979.100000</td>\n",
       "      <td>-37.759280</td>\n",
       "      <td>144.897587</td>\n",
       "      <td>1543.0</td>\n",
       "    </tr>\n",
       "    <tr>\n",
       "      <th>Airport West</th>\n",
       "      <td>3.000000</td>\n",
       "      <td>7.566567e+05</td>\n",
       "      <td>12.482090</td>\n",
       "      <td>3042.0</td>\n",
       "      <td>2.865672</td>\n",
       "      <td>1.477612</td>\n",
       "      <td>1.641791</td>\n",
       "      <td>432.880597</td>\n",
       "      <td>135.272895</td>\n",
       "      <td>1984.476190</td>\n",
       "      <td>-37.723399</td>\n",
       "      <td>144.879635</td>\n",
       "      <td>3464.0</td>\n",
       "    </tr>\n",
       "    <tr>\n",
       "      <th>Albanvale</th>\n",
       "      <td>3.000000</td>\n",
       "      <td>5.370833e+05</td>\n",
       "      <td>14.000000</td>\n",
       "      <td>3021.0</td>\n",
       "      <td>3.000000</td>\n",
       "      <td>1.333333</td>\n",
       "      <td>2.166667</td>\n",
       "      <td>501.166667</td>\n",
       "      <td>123.000000</td>\n",
       "      <td>1980.000000</td>\n",
       "      <td>-37.745640</td>\n",
       "      <td>144.770878</td>\n",
       "      <td>1899.0</td>\n",
       "    </tr>\n",
       "    <tr>\n",
       "      <th>Albert Park</th>\n",
       "      <td>2.710145</td>\n",
       "      <td>1.941355e+06</td>\n",
       "      <td>3.230435</td>\n",
       "      <td>3206.0</td>\n",
       "      <td>2.666667</td>\n",
       "      <td>1.434783</td>\n",
       "      <td>0.727273</td>\n",
       "      <td>176.652174</td>\n",
       "      <td>123.485294</td>\n",
       "      <td>1903.756757</td>\n",
       "      <td>-37.844127</td>\n",
       "      <td>144.953107</td>\n",
       "      <td>3280.0</td>\n",
       "    </tr>\n",
       "  </tbody>\n",
       "</table>\n",
       "</div>"
      ],
      "text/plain": [
       "                 Rooms         Price   Distance  Postcode  Bedroom2  Bathroom  \\\n",
       "Suburb                                                                          \n",
       "Abbotsford    2.410714  1.060366e+06   2.616071    3067.0  2.410714  1.410714   \n",
       "Aberfeldie    3.090909  1.277455e+06   8.627273    3040.0  3.000000  1.863636   \n",
       "Airport West  3.000000  7.566567e+05  12.482090    3042.0  2.865672  1.477612   \n",
       "Albanvale     3.000000  5.370833e+05  14.000000    3021.0  3.000000  1.333333   \n",
       "Albert Park   2.710145  1.941355e+06   3.230435    3206.0  2.666667  1.434783   \n",
       "\n",
       "                   Car    Landsize  BuildingArea    YearBuilt  Lattitude  \\\n",
       "Suburb                                                                     \n",
       "Abbotsford    0.946429  292.446429    103.000000  1945.184211 -37.804339   \n",
       "Aberfeldie    1.977273  514.772727    163.692000  1979.100000 -37.759280   \n",
       "Airport West  1.641791  432.880597    135.272895  1984.476190 -37.723399   \n",
       "Albanvale     2.166667  501.166667    123.000000  1980.000000 -37.745640   \n",
       "Albert Park   0.727273  176.652174    123.485294  1903.756757 -37.844127   \n",
       "\n",
       "              Longtitude  Propertycount  \n",
       "Suburb                                   \n",
       "Abbotsford    144.997176         4019.0  \n",
       "Aberfeldie    144.897587         1543.0  \n",
       "Airport West  144.879635         3464.0  \n",
       "Albanvale     144.770878         1899.0  \n",
       "Albert Park   144.953107         3280.0  "
      ]
     },
     "execution_count": 23,
     "metadata": {},
     "output_type": "execute_result"
    }
   ],
   "source": [
    "# Mean data by suburb\n",
    "house_by_suburb_df = house_df.groupby('Suburb').mean()\n",
    "house_by_suburb_df.head()"
   ]
  },
  {
   "cell_type": "code",
   "execution_count": 24,
   "metadata": {},
   "outputs": [
    {
     "data": {
      "text/plain": [
       "count    1.440000e+02\n",
       "mean     1.472893e+06\n",
       "std      7.203775e+05\n",
       "min      6.114545e+05\n",
       "25%      9.548399e+05\n",
       "50%      1.251446e+06\n",
       "75%      1.752750e+06\n",
       "max      5.046000e+06\n",
       "Name: Price, dtype: float64"
      ]
     },
     "execution_count": 24,
     "metadata": {},
     "output_type": "execute_result"
    }
   ],
   "source": [
    "# What is the average price of the properties based on the year they built it\n",
    "house_by_year_df = house_df.groupby('YearBuilt').mean()\n",
    "df = house_by_year_df['Price']\n",
    "df.describe()\n"
   ]
  },
  {
   "cell_type": "code",
   "execution_count": 25,
   "metadata": {},
   "outputs": [
    {
     "ename": "TypeError",
     "evalue": "'DataFrame' object is not callable",
     "output_type": "error",
     "traceback": [
      "\u001b[1;31m---------------------------------------------------------------------------\u001b[0m",
      "\u001b[1;31mTypeError\u001b[0m                                 Traceback (most recent call last)",
      "\u001b[1;32m~\\AppData\\Local\\Temp\\ipykernel_12752\\1520836212.py\u001b[0m in \u001b[0;36m<module>\u001b[1;34m\u001b[0m\n\u001b[1;32m----> 1\u001b[1;33m \u001b[0mchart\u001b[0m \u001b[1;33m=\u001b[0m \u001b[0mhouse_by_suburb_df\u001b[0m\u001b[1;33m(\u001b[0m\u001b[0mfigsize\u001b[0m \u001b[1;33m=\u001b[0m \u001b[1;33m(\u001b[0m\u001b[1;36m24\u001b[0m\u001b[1;33m,\u001b[0m \u001b[1;36m8\u001b[0m\u001b[1;33m)\u001b[0m\u001b[1;33m,\u001b[0m \u001b[0msort_columns\u001b[0m\u001b[1;33m=\u001b[0m\u001b[1;32mTrue\u001b[0m\u001b[1;33m,\u001b[0m \u001b[0muse_index\u001b[0m\u001b[1;33m=\u001b[0m\u001b[1;32mTrue\u001b[0m\u001b[1;33m,\u001b[0m \u001b[0mlegend\u001b[0m\u001b[1;33m=\u001b[0m\u001b[1;32mTrue\u001b[0m\u001b[1;33m,\u001b[0m \u001b[0mgrid\u001b[0m\u001b[1;33m=\u001b[0m\u001b[1;32mTrue\u001b[0m\u001b[1;33m,\u001b[0m \u001b[0mcolor\u001b[0m\u001b[1;33m=\u001b[0m\u001b[1;34m\"red\"\u001b[0m\u001b[1;33m)\u001b[0m\u001b[1;33m\u001b[0m\u001b[1;33m\u001b[0m\u001b[0m\n\u001b[0m\u001b[0;32m      2\u001b[0m \u001b[0mplt\u001b[0m\u001b[1;33m.\u001b[0m\u001b[0mshow\u001b[0m\u001b[1;33m(\u001b[0m\u001b[1;33m)\u001b[0m\u001b[1;33m\u001b[0m\u001b[1;33m\u001b[0m\u001b[0m\n",
      "\u001b[1;31mTypeError\u001b[0m: 'DataFrame' object is not callable"
     ]
    }
   ],
   "source": [
    "chart = house_by_suburb_df(figsize = (24, 8), sort_columns=True, use_index=True, legend=True, grid=True, color=\"red\")\n",
    "plt.show()"
   ]
  },
  {
   "cell_type": "code",
   "execution_count": null,
   "metadata": {},
   "outputs": [],
   "source": []
  }
 ],
 "metadata": {
  "kernelspec": {
   "display_name": "Python 3 (ipykernel)",
   "language": "python",
   "name": "python3"
  },
  "language_info": {
   "codemirror_mode": {
    "name": "ipython",
    "version": 3
   },
   "file_extension": ".py",
   "mimetype": "text/x-python",
   "name": "python",
   "nbconvert_exporter": "python",
   "pygments_lexer": "ipython3",
   "version": "3.9.12"
  },
  "vscode": {
   "interpreter": {
    "hash": "0177d0b8a2b6e54acf6252bb2539e74b888792532d7eae3d318e48ffaeb8c32a"
   }
  }
 },
 "nbformat": 4,
 "nbformat_minor": 2
}
